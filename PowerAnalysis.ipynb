{
 "cells": [
  {
   "cell_type": "code",
   "execution_count": 1,
   "metadata": {},
   "outputs": [],
   "source": [
    "library(pwr)"
   ]
  },
  {
   "cell_type": "code",
   "execution_count": 2,
   "metadata": {},
   "outputs": [],
   "source": [
    "# https://www.statmethods.net/stats/power.html\n",
    "# https://cran.r-project.org/web/packages/pwr/vignettes/pwr-vignette.html"
   ]
  },
  {
   "cell_type": "code",
   "execution_count": 3,
   "metadata": {},
   "outputs": [],
   "source": [
    "# For a one-way ANOVA comparing 5 groups, calculate the\n",
    "# sample size needed in each group to obtain a power of\n",
    "# 0.80, when the effect size is moderate (0.25) and a\n",
    "# significance level of 0.05 is employed.\n",
    "# Cohen suggests that f values of 0.1, 0.25, and 0.4 represent small, medium, and large effect sizes respectively."
   ]
  },
  {
   "cell_type": "code",
   "execution_count": 4,
   "metadata": {},
   "outputs": [
    {
     "data": {
      "text/plain": [
       "\n",
       "     Balanced one-way analysis of variance power calculation \n",
       "\n",
       "              k = 2\n",
       "              n = 25.52458\n",
       "              f = 0.4\n",
       "      sig.level = 0.05\n",
       "          power = 0.8\n",
       "\n",
       "NOTE: n is number in each group\n"
      ]
     },
     "metadata": {},
     "output_type": "display_data"
    }
   ],
   "source": [
    "pwr.anova.test(k=2,f=.4,sig.level=.05,power=.8)"
   ]
  },
  {
   "cell_type": "code",
   "execution_count": 5,
   "metadata": {},
   "outputs": [],
   "source": [
    "# pwr.t.test(n = , d = , sig.level = , power = , type = c(\"two.sample\", \"one.sample\", \"paired\"))\n",
    "# where n is the sample size, \n",
    "# d is the effect size, \n",
    "# and type indicates a two-sample t-test, one-sample t-test or paired t-test. \n",
    "# Cohen suggests that d values of 0.2, 0.5, and 0.8 represent small, medium, and large effect sizes respectively."
   ]
  },
  {
   "cell_type": "code",
   "execution_count": 6,
   "metadata": {},
   "outputs": [
    {
     "data": {
      "text/plain": [
       "\n",
       "     Two-sample t test power calculation \n",
       "\n",
       "              n = 20.03178\n",
       "              d = 0.8\n",
       "      sig.level = 0.1\n",
       "          power = 0.8\n",
       "    alternative = two.sided\n",
       "\n",
       "NOTE: n is number in *each* group\n"
      ]
     },
     "metadata": {},
     "output_type": "display_data"
    }
   ],
   "source": [
    "pwr.t.test(d = 0.8, sig.level = .10, power = .8 , type = \"two.sample\")"
   ]
  },
  {
   "cell_type": "code",
   "execution_count": 7,
   "metadata": {},
   "outputs": [
    {
     "data": {
      "text/plain": [
       "\n",
       "     t test power calculation \n",
       "\n",
       "             n1 = 25\n",
       "             n2 = 25\n",
       "              d = 0.8\n",
       "      sig.level = 0.05\n",
       "          power = 0.7914513\n",
       "    alternative = two.sided\n"
      ]
     },
     "metadata": {},
     "output_type": "display_data"
    }
   ],
   "source": [
    "pwr.t2n.test(n1 = 25, n2 = 25, d = 0.8 , sig.level = .05)"
   ]
  }
 ],
 "metadata": {
  "kernelspec": {
   "display_name": "R",
   "language": "R",
   "name": "r"
  },
  "language_info": {
   "codemirror_mode": "r",
   "file_extension": ".r",
   "mimetype": "text/x-r-source",
   "name": "R",
   "pygments_lexer": "r",
   "version": "3.4.1"
  }
 },
 "nbformat": 4,
 "nbformat_minor": 2
}
